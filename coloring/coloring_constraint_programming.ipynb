{
 "cells": [
  {
   "cell_type": "code",
   "execution_count": 2,
   "metadata": {},
   "outputs": [],
   "source": [
    "import numpy as np\n",
    "import pandas as pd\n",
    "from numba import njit \n",
    "from collections import namedtuple\n",
    "# Item = namedtuple(\"Item\", ['index', 'value', 'weight'])"
   ]
  },
  {
   "cell_type": "code",
   "execution_count": null,
   "metadata": {},
   "outputs": [],
   "source": [
    "##for fun haha\n",
    "# !pip install jupyterthemes\n",
    "# !jt -t chesterish"
   ]
  },
  {
   "cell_type": "code",
   "execution_count": null,
   "metadata": {},
   "outputs": [],
   "source": []
  },
  {
   "cell_type": "code",
   "execution_count": 40,
   "metadata": {},
   "outputs": [],
   "source": [
    "with open('gc_100_9.txt') as input_data:\n",
    "    lines= list(input_data)\n",
    "\n",
    "    first_line = lines[0].split()\n",
    "    node_count = int(first_line[0])\n",
    "    edge_count = int(first_line[1])\n",
    "\n",
    "    edges = []\n",
    "    for i in range(1, edge_count + 1):\n",
    "        line = lines[i]\n",
    "        parts = line.split()\n",
    "        edges.append((int(parts[0]), int(parts[1])))"
   ]
  },
  {
   "cell_type": "code",
   "execution_count": 8,
   "metadata": {},
   "outputs": [],
   "source": [
    "test=[(1,2), (3,4)]"
   ]
  },
  {
   "cell_type": "code",
   "execution_count": 41,
   "metadata": {},
   "outputs": [],
   "source": [
    "constraint_order=[]\n",
    "\n",
    "##first degree constraint_order\n",
    "for i in range(node_count):\n",
    "    count=0\n",
    "    for k in edges:\n",
    "        if i in k:\n",
    "            count+=1\n",
    "    constraint_order.append((i, count))\n",
    "\n",
    "## second degree constraint_order\n",
    "second_constraint_order=[]\n",
    "for i in range(node_count):\n",
    "    count=0\n",
    "    for k in edges:\n",
    "        if i in k:\n",
    "            for index in range(len(constraint_order)):\n",
    "                if constraint_order[index][0]==k[1-k.index(i)]:\n",
    "                    count+=constraint_order[index][1]\n",
    "    second_constraint_order.append((i, count))\n",
    "\n",
    "constraint_order=sorted(second_constraint_order, key=lambda x: x[1])\n",
    "\n",
    "\n",
    "##sometimes second degree works better;\n",
    "## generally more complex data, better second degree performs.\n",
    "\n",
    "\n",
    "fixed_order=[]\n",
    "for i in constraint_order:\n",
    "    fixed_order.append(i[0])\n",
    "\n",
    "combined_edges=[]\n",
    "for i in range(node_count):\n",
    "    close_nodes=[]\n",
    "    for k in edges:\n",
    "        if i in k:\n",
    "            close_nodes.append(k[1-k.index(i)])\n",
    "    combined_edges.append(close_nodes)\n",
    "    \n",
    "    \n",
    "total_color=node_count-1  ### at most \n",
    "table=np.zeros((node_count, total_color))\n",
    "\n",
    "# total_color=8\n",
    "# table=np.zeros((node_count, total_color))"
   ]
  },
  {
   "cell_type": "code",
   "execution_count": 117,
   "metadata": {},
   "outputs": [
    {
     "data": {
      "text/plain": [
       "[0, 7, 16, 17, 12, 14, 1, 8, 5, 3, 15, 19, 6, 13, 18, 2, 4, 9, 11, 10]"
      ]
     },
     "execution_count": 117,
     "metadata": {},
     "output_type": "execute_result"
    }
   ],
   "source": [
    "fixed_order"
   ]
  },
  {
   "cell_type": "code",
   "execution_count": 42,
   "metadata": {},
   "outputs": [
    {
     "name": "stdout",
     "output_type": "stream",
     "text": [
      "\n"
     ]
    }
   ],
   "source": [
    "##0: haven't tries\n",
    "##1: decision\n",
    "##-1: not feasible\n",
    "while constraint_order:\n",
    "    constraint_pair= constraint_order.pop()\n",
    "    node=constraint_pair[0]\n",
    "    available_color_list = np.where(table[node]==0)  ##find all available colors\n",
    "\n",
    "    \n",
    "    if 0 in table[node]:\n",
    "        color=available_color_list[0][0]  ##find the first avaiable color\n",
    "        table[node][color]=1   ## color this node\n",
    "        ##for other attched nodes, they cannot use the same color\n",
    "                \n",
    "        check=True\n",
    "        for other in combined_edges[node]:\n",
    "            if 1 not in table[other]:\n",
    "                if np.where(table[other]==0)[0].size==1 and np.where(table[other]==0)[0][0]==color:\n",
    "                    check=False\n",
    "        \n",
    "        if check:\n",
    "            for other in combined_edges[node]:\n",
    "                if 1 not in table[other]:\n",
    "                    table[other][color]=-1\n",
    "        else:\n",
    "            table[node][color]=-1\n",
    "            constraint_order.append((node, _))\n",
    "      \n",
    "    \n",
    "\n",
    "## This whole part is for feasbility checking\n",
    "## for some reasons, it's not working\n",
    "\n",
    "#     else:\n",
    "#         ##recover the current node constraint\n",
    "#         node_constraint= np.zeros(total_color)\n",
    "#         previous_nodes= fixed_order[fixed_order.index(node)+1:]\n",
    "#         for previous_node in previous_nodes:\n",
    "#             node_constraint[np.where(table[previous_node]==1)[0][0]]=-1\n",
    "#         table[node]=node_constraint\n",
    "\n",
    "        \n",
    "#         previous_node=fixed_order[fixed_order.index(node)+1]\n",
    "#         previous_color=np.where(table[previous_node]==1)[0][0]\n",
    "#         table[previous_node][previous_color]= -1\n",
    "#         for other in combined_edges[previous_node]:\n",
    "#             if 1 not in table[other]:\n",
    "#                 adjust=False\n",
    "#                 for k in previous_nodes[1:]:\n",
    "#                     if np.where(table[k]==1)[0][0]==previous_color and other in combined_edges[k]:\n",
    "#                         adjust=True\n",
    "#                 if adjust:\n",
    "#                     table[other][previous_color]=0\n",
    "                \n",
    "        \n",
    "#         constraint_order.append(constraint_pair)\n",
    "#         constraint_order.append((previous_node, _))\n",
    "#         print('node', node)\n",
    "#         print('previous node', previous_node)\n",
    "#         print('previous_color', previous_color)\n",
    "#         print(len(constraint_order), ' nodes left')\n",
    "#     if node==24:\n",
    "#         print()\n",
    "\n",
    "    \n",
    "#     if len(constraint_order)==node_count:\n",
    "#         print('fail')\n",
    "    \n",
    "# #     color=available_color_list[0][0]  ##find the first avaiable color\n",
    "# #     table[node][color]=1   ## color this node\n",
    "# #     ##for other attched nodes, they cannot use the same color\n",
    "# #     for other in combined_edges[node]:\n",
    "# #         table[other][color]=-1\n",
    "\n",
    "output=[]\n",
    "for i in range(node_count):\n",
    "    output.append(np.where(table[i]==1)[0][0])\n",
    "\n",
    "total_color=max(output)+1    "
   ]
  },
  {
   "cell_type": "code",
   "execution_count": 43,
   "metadata": {},
   "outputs": [
    {
     "data": {
      "text/plain": [
       "45"
      ]
     },
     "execution_count": 43,
     "metadata": {},
     "output_type": "execute_result"
    }
   ],
   "source": [
    "total_color"
   ]
  },
  {
   "cell_type": "code",
   "execution_count": 197,
   "metadata": {},
   "outputs": [],
   "source": [
    "## this part is for acheieving further optimality. Smaller number of colors\n",
    "total_color=85\n",
    "table=np.zeros((node_count, total_color))\n",
    "\n",
    "# total_color=2\n",
    "# table=np.zeros((node_count, total_color))"
   ]
  },
  {
   "cell_type": "code",
   "execution_count": 275,
   "metadata": {},
   "outputs": [
    {
     "data": {
      "text/plain": [
       "array([[0., 0., 0.],\n",
       "       [1., 2., 3.]])"
      ]
     },
     "execution_count": 275,
     "metadata": {},
     "output_type": "execute_result"
    }
   ],
   "source": [
    "test"
   ]
  },
  {
   "cell_type": "code",
   "execution_count": 295,
   "metadata": {},
   "outputs": [
    {
     "data": {
      "text/plain": [
       "0"
      ]
     },
     "execution_count": 295,
     "metadata": {},
     "output_type": "execute_result"
    }
   ],
   "source": [
    "np.where(test[1]==0)[0].size"
   ]
  },
  {
   "cell_type": "code",
   "execution_count": 287,
   "metadata": {},
   "outputs": [],
   "source": [
    "k=np.zeros(test.shape)"
   ]
  },
  {
   "cell_type": "code",
   "execution_count": 286,
   "metadata": {},
   "outputs": [
    {
     "data": {
      "text/plain": [
       "(2, 3)"
      ]
     },
     "execution_count": 286,
     "metadata": {},
     "output_type": "execute_result"
    }
   ],
   "source": [
    "test.shape"
   ]
  },
  {
   "cell_type": "code",
   "execution_count": 289,
   "metadata": {},
   "outputs": [],
   "source": [
    "for i in range(len(test)):\n",
    "    k[i]=test[i]"
   ]
  },
  {
   "cell_type": "code",
   "execution_count": 290,
   "metadata": {},
   "outputs": [],
   "source": [
    "test[0]=[1,1,1]"
   ]
  },
  {
   "cell_type": "code",
   "execution_count": 292,
   "metadata": {},
   "outputs": [
    {
     "data": {
      "text/plain": [
       "array([[0., 0., 0.],\n",
       "       [1., 2., 3.]])"
      ]
     },
     "execution_count": 292,
     "metadata": {},
     "output_type": "execute_result"
    }
   ],
   "source": [
    "k"
   ]
  },
  {
   "cell_type": "code",
   "execution_count": 262,
   "metadata": {},
   "outputs": [
    {
     "data": {
      "text/plain": [
       "41"
      ]
     },
     "execution_count": 262,
     "metadata": {},
     "output_type": "execute_result"
    }
   ],
   "source": [
    "output[66]"
   ]
  },
  {
   "cell_type": "code",
   "execution_count": 263,
   "metadata": {},
   "outputs": [
    {
     "data": {
      "text/plain": [
       "40"
      ]
     },
     "execution_count": 263,
     "metadata": {},
     "output_type": "execute_result"
    }
   ],
   "source": [
    "output[96]"
   ]
  },
  {
   "cell_type": "code",
   "execution_count": 6,
   "metadata": {
    "scrolled": true
   },
   "outputs": [
    {
     "data": {
      "text/plain": [
       "9"
      ]
     },
     "execution_count": 6,
     "metadata": {},
     "output_type": "execute_result"
    }
   ],
   "source": [
    "len(set(output))"
   ]
  },
  {
   "cell_type": "code",
   "execution_count": 314,
   "metadata": {},
   "outputs": [],
   "source": [
    "# output"
   ]
  },
  {
   "cell_type": "code",
   "execution_count": 215,
   "metadata": {},
   "outputs": [
    {
     "data": {
      "text/plain": [
       "121"
      ]
     },
     "execution_count": 215,
     "metadata": {},
     "output_type": "execute_result"
    }
   ],
   "source": [
    "total_color"
   ]
  },
  {
   "cell_type": "code",
   "execution_count": null,
   "metadata": {},
   "outputs": [],
   "source": []
  },
  {
   "cell_type": "markdown",
   "metadata": {},
   "source": [
    "## check the output"
   ]
  },
  {
   "cell_type": "code",
   "execution_count": 21,
   "metadata": {},
   "outputs": [
    {
     "name": "stdout",
     "output_type": "stream",
     "text": [
      "success\n"
     ]
    }
   ],
   "source": [
    "for (a,b) in edges:\n",
    "    if output[a]==output[b]:\n",
    "        print('fail', a, b)\n",
    "print('success')"
   ]
  },
  {
   "cell_type": "code",
   "execution_count": 205,
   "metadata": {},
   "outputs": [
    {
     "data": {
      "text/plain": [
       "(0, 3)"
      ]
     },
     "execution_count": 205,
     "metadata": {},
     "output_type": "execute_result"
    }
   ],
   "source": [
    "edges[2]"
   ]
  },
  {
   "cell_type": "code",
   "execution_count": null,
   "metadata": {},
   "outputs": [],
   "source": []
  },
  {
   "cell_type": "code",
   "execution_count": null,
   "metadata": {},
   "outputs": [],
   "source": []
  },
  {
   "cell_type": "code",
   "execution_count": null,
   "metadata": {},
   "outputs": [],
   "source": []
  },
  {
   "cell_type": "code",
   "execution_count": null,
   "metadata": {},
   "outputs": [],
   "source": []
  },
  {
   "cell_type": "code",
   "execution_count": 74,
   "metadata": {},
   "outputs": [
    {
     "data": {
      "text/plain": [
       "array([[-1.,  1.,  0.],\n",
       "       [ 1., -1.,  0.],\n",
       "       [-1.,  1.,  0.],\n",
       "       [-1.,  1.,  0.]])"
      ]
     },
     "execution_count": 74,
     "metadata": {},
     "output_type": "execute_result"
    }
   ],
   "source": [
    "table"
   ]
  },
  {
   "cell_type": "code",
   "execution_count": 75,
   "metadata": {},
   "outputs": [
    {
     "data": {
      "text/plain": [
       "2"
      ]
     },
     "execution_count": 75,
     "metadata": {},
     "output_type": "execute_result"
    }
   ],
   "source": [
    "np.where(table[node]==0)[0][0]"
   ]
  },
  {
   "cell_type": "markdown",
   "metadata": {},
   "source": [
    "### First Version"
   ]
  },
  {
   "cell_type": "code",
   "execution_count": null,
   "metadata": {},
   "outputs": [],
   "source": [
    "def solve_it(input_data):\n",
    "    import numpy as np\n",
    "    import pandas as pd\n",
    "    from numba import njit \n",
    "    from collections import namedtuple\n",
    "\n",
    "    # Modify this code to run your optimization algorithm\n",
    "\n",
    "    # parse the input\n",
    "    lines = input_data.split('\\n')\n",
    "\n",
    "    first_line = lines[0].split()\n",
    "    node_count = int(first_line[0])\n",
    "    edge_count = int(first_line[1])\n",
    "\n",
    "    edges = []\n",
    "    for i in range(1, edge_count + 1):\n",
    "        line = lines[i]\n",
    "        parts = line.split()\n",
    "        edges.append((int(parts[0]), int(parts[1])))\n",
    "\n",
    "    # solution\n",
    "    constraint_order=[]\n",
    "    for i in range(node_count):\n",
    "        count=0\n",
    "        for k in edges:\n",
    "            if i in k:\n",
    "                count+=1\n",
    "        constraint_order.append((i, count))\n",
    "\n",
    "    constraint_order=sorted(constraint_order, key=lambda x: x[1])\n",
    "\n",
    "    fixed_order=[]\n",
    "    for i in constraint_order:\n",
    "        fixed_order.append(i[0])\n",
    "\n",
    "    combined_edges=[]\n",
    "    for i in range(node_count):\n",
    "        close_nodes=[]\n",
    "        for k in edges:\n",
    "            if i in k:\n",
    "                close_nodes.append(k[1-k.index(i)])\n",
    "        combined_edges.append(close_nodes)\n",
    "    \n",
    "    \n",
    "    total_color=node_count-1  ### at most \n",
    "    table=np.zeros((node_count, total_color))\n",
    "\n",
    "\n",
    "\n",
    "    ###loop and search\n",
    "##0: haven't tries\n",
    "##1: decision\n",
    "##-1: not feasible\n",
    "    while constraint_order:\n",
    "        constraint_pair= constraint_order.pop()\n",
    "        node=constraint_pair[0]\n",
    "        current_node_constraint= table[node]\n",
    "        available_color_list = np.where(table[node]==0)  ##find all available colors\n",
    "    \n",
    "        if 0 in table[node]:\n",
    "            color=available_color_list[0][0]  ##find the first avaiable color\n",
    "            table[node][color]=1   ## color this node\n",
    "            ##for other attched nodes, they cannot use the same color\n",
    "            for other in combined_edges[node]:\n",
    "                if 1 not in table[other]:\n",
    "                    table[other][color]=-1      \n",
    "            \n",
    "        else:\n",
    "            previous_node=fixed_order[fixed_order.index(node)+1]\n",
    "            previous_color=np.where(table[previous_node]==1)[0][0]\n",
    "            table[previous_node][previous_color]= -1\n",
    "            for other in combined_edges[previous_node]:\n",
    "                if 1 not in table[other] and other!=node:\n",
    "                    table[other][previous_color]=0\n",
    "            table[node]=current_node_constraint\n",
    "        \n",
    "            constraint_order.append(constraint_pair)\n",
    "            constraint_order.append((previous_node, _))\n",
    "\n",
    "\n",
    "    output=[]\n",
    "    for i in range(node_count):\n",
    "        output.append(np.where(table[i]==1)[0][0])\n",
    "\n",
    "    total_color=len(set(output))  \n",
    "\n",
    "\n",
    "    # prepare the solution in the specified output format\n",
    "    output_data = str(total_color) + ' ' + str(0) + '\\n'\n",
    "    output_data += ' '.join(map(str, output))\n",
    "\n",
    "    return output_data\n",
    "\n",
    "\n",
    "import sys\n",
    "\n",
    "if __name__ == '__main__':\n",
    "    import sys\n",
    "    if len(sys.argv) > 1:\n",
    "        file_location = sys.argv[1].strip()\n",
    "        with open(file_location, 'r') as input_data_file:\n",
    "            input_data = input_data_file.read()\n",
    "        print(solve_it(input_data))\n",
    "    else:\n",
    "        print('This test requires an input file.  Please select one from the data directory. (i.e. python solver.py ./data/gc_4_1)')\n",
    "\n"
   ]
  },
  {
   "cell_type": "code",
   "execution_count": null,
   "metadata": {},
   "outputs": [],
   "source": []
  }
 ],
 "metadata": {
  "kernelspec": {
   "display_name": "Python 3",
   "language": "python",
   "name": "python3"
  },
  "language_info": {
   "codemirror_mode": {
    "name": "ipython",
    "version": 3
   },
   "file_extension": ".py",
   "mimetype": "text/x-python",
   "name": "python",
   "nbconvert_exporter": "python",
   "pygments_lexer": "ipython3",
   "version": "3.7.1"
  }
 },
 "nbformat": 4,
 "nbformat_minor": 2
}
